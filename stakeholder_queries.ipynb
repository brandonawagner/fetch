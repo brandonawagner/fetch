{
 "cells": [
  {
   "cell_type": "markdown",
   "id": "f4376e30",
   "metadata": {},
   "source": [
    "# Queries that directly answer predetermined questions from a business stakeholder"
   ]
  },
  {
   "cell_type": "markdown",
   "id": "5c2dc925",
   "metadata": {},
   "source": [
    "## Question 1: What are the top 5 brands by receipts scanned for most recent month?\n",
    "\n",
    "**Query:**\n",
    "![SQL To Find Points Earned (Receipt) Outliers](files/SQL_Question_1.png)\n",
    "\n",
    "**Results:**\n",
    "![SQL To Find Points Earned (Receipt) Outliers](files/SQL_Question_1_Results.png)\n"
   ]
  },
  {
   "cell_type": "markdown",
   "id": "4018941b",
   "metadata": {},
   "source": [
    "## Question 2: How does the ranking of the top 5 brands by receipts scanned for the recent month compare to the ranking for the previous month?\n",
    "\n",
    "**Query:**\n",
    "![SQL To Find Points Earned (Receipt) Outliers](files/SQL_Question_2.png)\n",
    "\n",
    "**Results:**\n",
    "![SQL To Find Points Earned (Receipt) Outliers](files/SQL_Question_2_Results.png)"
   ]
  },
  {
   "cell_type": "markdown",
   "id": "c3c6fdb7",
   "metadata": {},
   "source": [
    "## Question 3: When considering average spend from receipts with 'rewardsReceiptStatus’ of ‘Accepted’ or ‘Rejected’, which is greater?\n",
    "\n",
    "_Modification: There was no status of 'Accepted' in the database. I've replaced 'Accepted' with 'FINISHED' to show an example of this in this query_\n",
    "\n",
    "**Query**\n",
    "![SQL To Find Points Earned (Receipt) Outliers](files/SQL_Question_3.png)\n",
    "\n",
    "**Results:**\n",
    "![SQL To Find Points Earned (Receipt) Outliers](files/SQL_Question_3_Results.png)\n",
    "\n"
   ]
  }
 ],
 "metadata": {
  "kernelspec": {
   "display_name": "Python 3.9",
   "language": "python",
   "name": "python39"
  },
  "language_info": {
   "codemirror_mode": {
    "name": "ipython",
    "version": 3
   },
   "file_extension": ".py",
   "mimetype": "text/x-python",
   "name": "python",
   "nbconvert_exporter": "python",
   "pygments_lexer": "ipython3",
   "version": "3.9.13"
  }
 },
 "nbformat": 4,
 "nbformat_minor": 5
}
